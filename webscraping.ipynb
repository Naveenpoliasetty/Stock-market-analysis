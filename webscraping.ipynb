{
 "cells": [
  {
   "cell_type": "markdown",
   "id": "923c7171",
   "metadata": {},
   "source": [
    "## Fetching the main website for news article websites "
   ]
  },
  {
   "cell_type": "code",
   "execution_count": 1,
   "id": "f131dc44",
   "metadata": {},
   "outputs": [],
   "source": [
    "import requests\n",
    "from bs4 import BeautifulSoup\n",
    "\n",
    "def extract_hrefs(url):\n",
    "    try:\n",
    "        response = requests.get(url)\n",
    "        response.raise_for_status()\n",
    "        \n",
    "        soup = BeautifulSoup(response.content, 'html.parser')\n",
    "\n",
    "        links = soup.find_all('a', href=True)\n",
    "\n",
    "        hrefs = [link['href'] for link in links]\n",
    "\n",
    "        return hrefs\n",
    "    except requests.exceptions.RequestException as e:\n",
    "        print(f\"Error fetching website: {e}\")\n",
    "        return []"
   ]
  },
  {
   "cell_type": "markdown",
   "id": "33fad7c0",
   "metadata": {},
   "source": [
    "### Defining links"
   ]
  },
  {
   "cell_type": "code",
   "execution_count": 2,
   "id": "1bd812cf",
   "metadata": {},
   "outputs": [],
   "source": [
    "websites_list = []\n",
    "websites_list.append('https://www.moneycontrol.com/news/business/stocks/')\n",
    "for x in range(1,30):\n",
    "    y = \"https://www.moneycontrol.com/news/business/stocks/\" + \"page-\" + str(x) + '/'\n",
    "    websites_list.append(y)"
   ]
  },
  {
   "cell_type": "code",
   "execution_count": 3,
   "id": "99cc5a0b",
   "metadata": {},
   "outputs": [
    {
     "data": {
      "text/plain": [
       "['https://www.moneycontrol.com/news/business/stocks/',\n",
       " 'https://www.moneycontrol.com/news/business/stocks/page-1/',\n",
       " 'https://www.moneycontrol.com/news/business/stocks/page-2/',\n",
       " 'https://www.moneycontrol.com/news/business/stocks/page-3/',\n",
       " 'https://www.moneycontrol.com/news/business/stocks/page-4/',\n",
       " 'https://www.moneycontrol.com/news/business/stocks/page-5/',\n",
       " 'https://www.moneycontrol.com/news/business/stocks/page-6/',\n",
       " 'https://www.moneycontrol.com/news/business/stocks/page-7/',\n",
       " 'https://www.moneycontrol.com/news/business/stocks/page-8/',\n",
       " 'https://www.moneycontrol.com/news/business/stocks/page-9/',\n",
       " 'https://www.moneycontrol.com/news/business/stocks/page-10/',\n",
       " 'https://www.moneycontrol.com/news/business/stocks/page-11/',\n",
       " 'https://www.moneycontrol.com/news/business/stocks/page-12/',\n",
       " 'https://www.moneycontrol.com/news/business/stocks/page-13/',\n",
       " 'https://www.moneycontrol.com/news/business/stocks/page-14/',\n",
       " 'https://www.moneycontrol.com/news/business/stocks/page-15/',\n",
       " 'https://www.moneycontrol.com/news/business/stocks/page-16/',\n",
       " 'https://www.moneycontrol.com/news/business/stocks/page-17/',\n",
       " 'https://www.moneycontrol.com/news/business/stocks/page-18/',\n",
       " 'https://www.moneycontrol.com/news/business/stocks/page-19/',\n",
       " 'https://www.moneycontrol.com/news/business/stocks/page-20/',\n",
       " 'https://www.moneycontrol.com/news/business/stocks/page-21/',\n",
       " 'https://www.moneycontrol.com/news/business/stocks/page-22/',\n",
       " 'https://www.moneycontrol.com/news/business/stocks/page-23/',\n",
       " 'https://www.moneycontrol.com/news/business/stocks/page-24/',\n",
       " 'https://www.moneycontrol.com/news/business/stocks/page-25/',\n",
       " 'https://www.moneycontrol.com/news/business/stocks/page-26/',\n",
       " 'https://www.moneycontrol.com/news/business/stocks/page-27/',\n",
       " 'https://www.moneycontrol.com/news/business/stocks/page-28/',\n",
       " 'https://www.moneycontrol.com/news/business/stocks/page-29/']"
      ]
     },
     "execution_count": 3,
     "metadata": {},
     "output_type": "execute_result"
    }
   ],
   "source": [
    "websites_list"
   ]
  },
  {
   "cell_type": "code",
   "execution_count": 4,
   "id": "efe772e9",
   "metadata": {},
   "outputs": [
    {
     "data": {
      "text/plain": [
       "['https://www.moneycontrol.com/news/business/stocks/',\n",
       " 'https://www.moneycontrol.com/news/business/stocks/page-1/',\n",
       " 'https://www.moneycontrol.com/news/business/stocks/page-2/',\n",
       " 'https://www.moneycontrol.com/news/business/stocks/page-3/',\n",
       " 'https://www.moneycontrol.com/news/business/stocks/page-4/',\n",
       " 'https://www.moneycontrol.com/news/business/stocks/page-5/',\n",
       " 'https://www.moneycontrol.com/news/business/stocks/page-6/',\n",
       " 'https://www.moneycontrol.com/news/business/stocks/page-7/',\n",
       " 'https://www.moneycontrol.com/news/business/stocks/page-8/',\n",
       " 'https://www.moneycontrol.com/news/business/stocks/page-9/']"
      ]
     },
     "execution_count": 4,
     "metadata": {},
     "output_type": "execute_result"
    }
   ],
   "source": [
    "websites_list[:10]"
   ]
  },
  {
   "cell_type": "code",
   "execution_count": 5,
   "id": "615ab637",
   "metadata": {},
   "outputs": [],
   "source": [
    "def flatten_list(my_2d_list):\n",
    "    return [item for sublist in my_2d_list for item in sublist]"
   ]
  },
  {
   "cell_type": "code",
   "execution_count": 6,
   "id": "f340c74f",
   "metadata": {},
   "outputs": [
    {
     "name": "stdout",
     "output_type": "stream",
     "text": [
      "Length of market_articles 24, Length of stock_articles 14\n",
      "Length of hrefs is 2\n",
      "Length of market_articles 24, Length of stock_articles 14\n",
      "Length of hrefs is 4\n",
      "Length of market_articles 20, Length of stock_articles 22\n",
      "Length of hrefs is 6\n",
      "Length of market_articles 20, Length of stock_articles 26\n",
      "Length of hrefs is 8\n",
      "Length of market_articles 16, Length of stock_articles 24\n",
      "Length of hrefs is 10\n",
      "Length of market_articles 20, Length of stock_articles 24\n",
      "Length of hrefs is 12\n",
      "Length of market_articles 26, Length of stock_articles 22\n",
      "Length of hrefs is 14\n",
      "Length of market_articles 24, Length of stock_articles 16\n",
      "Length of hrefs is 16\n",
      "Length of market_articles 28, Length of stock_articles 16\n",
      "Length of hrefs is 18\n",
      "Length of market_articles 28, Length of stock_articles 14\n",
      "Length of hrefs is 20\n",
      "Length of market_articles 26, Length of stock_articles 16\n",
      "Length of hrefs is 22\n",
      "Length of market_articles 22, Length of stock_articles 24\n",
      "Length of hrefs is 24\n",
      "Length of market_articles 24, Length of stock_articles 18\n",
      "Length of hrefs is 26\n",
      "Length of market_articles 12, Length of stock_articles 34\n",
      "Length of hrefs is 28\n",
      "Length of market_articles 24, Length of stock_articles 22\n",
      "Length of hrefs is 30\n",
      "Length of market_articles 28, Length of stock_articles 22\n",
      "Length of hrefs is 32\n",
      "Length of market_articles 24, Length of stock_articles 22\n",
      "Length of hrefs is 34\n",
      "Length of market_articles 32, Length of stock_articles 14\n",
      "Length of hrefs is 36\n",
      "Length of market_articles 14, Length of stock_articles 32\n",
      "Length of hrefs is 38\n",
      "Length of market_articles 26, Length of stock_articles 18\n",
      "Length of hrefs is 40\n",
      "Length of market_articles 22, Length of stock_articles 26\n",
      "Length of hrefs is 42\n",
      "Length of market_articles 34, Length of stock_articles 6\n",
      "Length of hrefs is 44\n",
      "Length of market_articles 18, Length of stock_articles 28\n",
      "Length of hrefs is 46\n",
      "Length of market_articles 30, Length of stock_articles 20\n",
      "Length of hrefs is 48\n",
      "Length of market_articles 18, Length of stock_articles 20\n",
      "Length of hrefs is 50\n",
      "Length of market_articles 20, Length of stock_articles 20\n",
      "Length of hrefs is 52\n",
      "Length of market_articles 20, Length of stock_articles 24\n",
      "Length of hrefs is 54\n",
      "Length of market_articles 26, Length of stock_articles 14\n",
      "Length of hrefs is 56\n",
      "Length of market_articles 12, Length of stock_articles 30\n",
      "Length of hrefs is 58\n",
      "Length of market_articles 36, Length of stock_articles 6\n",
      "Length of hrefs is 60\n",
      "The total number of articles recorded is 578\n"
     ]
    }
   ],
   "source": [
    "hrefs = []\n",
    "articles = []\n",
    "for website in websites_list:\n",
    "    extracted_hrefs = extract_hrefs(website)\n",
    "    urls = []\n",
    "    market_articles = []\n",
    "    stock_articles = []\n",
    "    if extracted_hrefs:\n",
    "        for href in extracted_hrefs:\n",
    "            urls.append(href)\n",
    "    else:\n",
    "        print(\"No hrefs found on the website.\")\n",
    "    for url in urls: \n",
    "        if url.startswith('https://www.moneycontrol.com/news/business/markets/'):\n",
    "            market_articles.append(url)\n",
    "        elif url.startswith('https://www.moneycontrol.com/news/business/stocks/'):\n",
    "            stock_articles.append(url)\n",
    "    print(f\"Length of market_articles {len(market_articles)}, Length of stock_articles {len(stock_articles)}\")\n",
    "    hrefs.append(list(set(market_articles)))\n",
    "    hrefs.append(list(set(stock_articles)))\n",
    "    print(f\"Length of hrefs is {len(hrefs)}\")\n",
    "articles = list(set(flatten_list(hrefs)))\n",
    "print(f\"The total number of articles recorded is {len(articles)}\")"
   ]
  },
  {
   "cell_type": "code",
   "execution_count": 11,
   "id": "061577b5",
   "metadata": {},
   "outputs": [],
   "source": [
    "def extract_paragraphs(url):\n",
    "    try:\n",
    "        response = requests.get(url)\n",
    "        response.raise_for_status()\n",
    "\n",
    "        soup = BeautifulSoup(response.content, 'html.parser')\n",
    "\n",
    "        paragraphs = soup.find_all('p')\n",
    "\n",
    "\n",
    "        paragraph_texts = [paragraph.get_text(strip=True) for paragraph in paragraphs]\n",
    "        return paragraph_texts\n",
    "\n",
    "    except requests.exceptions.RequestException as e:\n",
    "        print(f\"Error fetching website: {e}\")\n",
    "        return []"
   ]
  },
  {
   "cell_type": "code",
   "execution_count": 12,
   "id": "65e84ddf",
   "metadata": {},
   "outputs": [
    {
     "data": {
      "text/plain": [
       "'https://www.moneycontrol.com/news/business/markets/nifty-sensex-edge-higher-on-buying-in-media-realty-stocks-analysts-see-consolidation-in-near-term-12528391.html'"
      ]
     },
     "execution_count": 12,
     "metadata": {},
     "output_type": "execute_result"
    }
   ],
   "source": [
    "articles[0]"
   ]
  },
  {
   "cell_type": "code",
   "execution_count": 13,
   "id": "604fd1c0",
   "metadata": {},
   "outputs": [
    {
     "name": "stdout",
     "output_type": "stream",
     "text": [
      "My Account\n",
      "Follow us on:\n",
      "Powered ByhBits - Fractional Ownership & Investment In Commercial Real Estate\n",
      "Start generating passive income with up to 10% rental yield and an expected IRR of 18%\n",
      "Invest Now\n",
      "Powered By\n",
      "Unlock Your Trading Potential: Trade like Experts with SEBI registered creators, Learn from Courses & Webinars by India's Finest Finance Experts.\n",
      "Invest Now\n",
      "Equity benchmarks the Sensex and Nifty soared around 1.5 percent in the afternoon on March 28 on track to ending to financial year 2023-24 on a high, buoyed by FII buying, positive global cues and a sharp rally in market heavyweights.\n",
      "The Sensex closed 655.04 points or 0.90 percent higher at 73,651.35, and the Nifty rose 203.20 points or 0.92 percent to 22,326.90. About 1,738 shares advanced, 1959 declined, and 102 were unchanged.\n",
      "Here are the 5 factors driving the rally today:\n",
      "Financials rise\n",
      "Financials rose after the Reserve Bank of India (RBI) eased recently tightened rules for lender investments in alternative investment funds (AIFs).\n",
      "Instead of a 100 percent provision, banks now only need to set aside funds for the portion of their investment in an AIF that is further invested in debtor companies.\n",
      "Nifty Bank and Nifty PSU Bank indices rose over a percent. ICICI Bank and State Bank of India were among the top gainers on Nifty, rising 1.6 and 1.9 percent.\n",
      "Follow our market blog to catch all the live action\n",
      "Index heavyweightsBajaj FinanceandBajaj Finservrose about 4 percent each following a Moneycontrol report that Bajaj Housing Finance had initiated preliminary talks with several investment banks about a potential initial public offering (IPO).\n",
      "Sharp rally in other heavyweights such asHero MotoCorp, M&M, JSW Steel also lifted the Nifty 50 above the 22,450 level.\n",
      "Strong global cues\n",
      "US stocks ended higher overnight, with the Dow leading gains and the S&P 500 setting a closing record. Asian and European markets also gained as ahead of the much-anticipated US core personal consumption expenditures (PCE) price index data, the Federal Reserve's preferred measure of inflation.\n",
      "Investors expect inflation to shrink leading to the Fed cutting rates from June onwards. Steven Blitz, TS Lombard’s chief U.S. economist believes, markets will continue to rally even if the Federal Reserve chooses not to cut interest rates this year.\n",
      "Strong FII inflows\n",
      "Foreign portfolio investors bought Indian equities worth Rs 2,170 crore on a net basis in the previous session, while domestic institutional investors purchased a net Rs 1,198 core worth of stocks.\n",
      "After remaining net sellers in the past two months, FIIs have turned buyers in March and have bought shares worth Rs 3,000 crore, so far, this month.\n",
      "The rise in FPI inflows comes on the back of improving macros, declining inflation, hopes of rate cuts from June and the possibility of the Modi government returning for a third term. The record-high performance of domestic equities and robust financial activity also aided the positive sentiment.\n",
      "Also Read |Bajaj Finance arm Bajaj Housing Finance starts preparation for IPO targeting $9-10 billion valuation\n",
      "Macho Macros\n",
      "Strong macro forecast also pushed markets higher on March 28. Morgan Stanley has raised India’s gross domestic product (GDP) growth forecast for FY25 to 6.8 percent from its previous estimate of 6.5 percent, highlighting the country’s strength and stability as hallmarks of the current financial cycle. It also revised its growth forecast for FY24 to 7.9 percent.\n",
      "More importantly, the earnings growth in India is expected to remain strong, going forward. Cyclically, India looks well-positioned and the domestic cyclical sectors should do well.\n",
      "Technical factor\n",
      "The short-term technical and sentiment indicators turned extremely oversold leading to a correction in the market. A bounce was due from there, Jay Vora, market analyst at Indiacharts.com, said.\n",
      "\"Now, 22,526 is a major resistance level for the Nifty on the upside. Below this level, a correction could still be in place. However, if the index manages to breach this level, the positive momentum could continue in the near term,\" he said. If the 22,526 is surpassed on the upside, largecaps could outperform because they will be relatively stronger.\n",
      "Disclaimer: The views and investment tips expressed by investment experts on Moneycontrol.com are their own and not those of the website or its management. Moneycontrol.com advises users to check with certified experts before taking any investment decisions.\n",
      "Discover the latestbusiness news,Sensex, andNiftyupdates. ObtainPersonal Financeinsights, tax queries, and expert opinions onMoneycontrolor download theMoneycontrol Appto stay updated!\n",
      "Copyright © e-Eighteen.com Ltd. All rights reserved. Reproduction of news articles, photos, videos or any other content in whole or in part in any form \r\n",
      "        or medium without express writtern permission of moneycontrol.com is prohibited.\n",
      "You are already a Moneycontrol Pro user.\n",
      "Access your Detailed Credit Report - absolutely free\n"
     ]
    }
   ],
   "source": [
    "url = articles[1]\n",
    "extracted_paragraphs = extract_paragraphs(url)\n",
    "\n",
    "if extracted_paragraphs:\n",
    "    for paragraph in extracted_paragraphs:\n",
    "        print(paragraph)\n",
    "else:\n",
    "    print(\"No paragraphs found or an error occurred.\")\n"
   ]
  },
  {
   "cell_type": "code",
   "execution_count": 14,
   "id": "09fbec61",
   "metadata": {},
   "outputs": [
    {
     "name": "stdout",
     "output_type": "stream",
     "text": [
      "Error fetching website: HTTPSConnectionPool(host='www.moneycontrol.com', port=443): Max retries exceeded with url: /news/business/markets/us-markets-gain-tech-stocks-rally-s-gift-nifty-gains-12578511.html (Caused by NewConnectionError('<urllib3.connection.HTTPSConnection object at 0x0000025736869DF0>: Failed to establish a new connection: [Errno 11001] getaddrinfo failed'))\n"
     ]
    }
   ],
   "source": [
    "data_dic = {}\n",
    "data_dic['URL'] = []\n",
    "data_dic['Data'] = []\n",
    "count = 0\n",
    "for url in articles:\n",
    "    data = extract_paragraphs(url)\n",
    "    count += 1\n",
    "    if extracted_paragraphs:\n",
    "        data_dic['URL'].append(url)\n",
    "        tuf = data[8:-5]\n",
    "        paragraph = \" \".join(tuf) + \"\\n\"\n",
    "        data_dic['Data'].append(paragraph)"
   ]
  },
  {
   "cell_type": "code",
   "execution_count": 15,
   "id": "ceda122a",
   "metadata": {},
   "outputs": [],
   "source": [
    "import pandas as pd\n",
    "df = pd.DataFrame(data_dic)"
   ]
  },
  {
   "cell_type": "code",
   "execution_count": 19,
   "id": "d05ae26b",
   "metadata": {},
   "outputs": [
    {
     "data": {
      "text/html": [
       "<div>\n",
       "<style scoped>\n",
       "    .dataframe tbody tr th:only-of-type {\n",
       "        vertical-align: middle;\n",
       "    }\n",
       "\n",
       "    .dataframe tbody tr th {\n",
       "        vertical-align: top;\n",
       "    }\n",
       "\n",
       "    .dataframe thead th {\n",
       "        text-align: right;\n",
       "    }\n",
       "</style>\n",
       "<table border=\"1\" class=\"dataframe\">\n",
       "  <thead>\n",
       "    <tr style=\"text-align: right;\">\n",
       "      <th></th>\n",
       "      <th>URL</th>\n",
       "      <th>Data</th>\n",
       "    </tr>\n",
       "  </thead>\n",
       "  <tbody>\n",
       "    <tr>\n",
       "      <th>0</th>\n",
       "      <td>https://www.moneycontrol.com/news/business/mar...</td>\n",
       "      <td>The Indian equity benchmark opened firm on Mar...</td>\n",
       "    </tr>\n",
       "    <tr>\n",
       "      <th>1</th>\n",
       "      <td>https://www.moneycontrol.com/news/business/mar...</td>\n",
       "      <td>Equity benchmarks the Sensex and Nifty soared ...</td>\n",
       "    </tr>\n",
       "    <tr>\n",
       "      <th>2</th>\n",
       "      <td>https://www.moneycontrol.com/news/business/mar...</td>\n",
       "      <td>After hitting fresh record highs, frontline in...</td>\n",
       "    </tr>\n",
       "    <tr>\n",
       "      <th>3</th>\n",
       "      <td>https://www.moneycontrol.com/news/business/sto...</td>\n",
       "      <td>State-owned Life Insurance Corporation of Indi...</td>\n",
       "    </tr>\n",
       "    <tr>\n",
       "      <th>4</th>\n",
       "      <td>https://www.moneycontrol.com/news/business/mar...</td>\n",
       "      <td>Benchmark indices the Sensex and the Nifty sna...</td>\n",
       "    </tr>\n",
       "    <tr>\n",
       "      <th>...</th>\n",
       "      <td>...</td>\n",
       "      <td>...</td>\n",
       "    </tr>\n",
       "    <tr>\n",
       "      <th>573</th>\n",
       "      <td>https://www.moneycontrol.com/news/business/sto...</td>\n",
       "      <td>Shares ofLemon Tree Hotelsgained in the early ...</td>\n",
       "    </tr>\n",
       "    <tr>\n",
       "      <th>574</th>\n",
       "      <td>https://www.moneycontrol.com/news/business/mar...</td>\n",
       "      <td>Shares of AstraZeneca Pharma India jumped over...</td>\n",
       "    </tr>\n",
       "    <tr>\n",
       "      <th>575</th>\n",
       "      <td>https://www.moneycontrol.com/news/business/sto...</td>\n",
       "      <td>Geojit's report on Daily Agri Picks The area u...</td>\n",
       "    </tr>\n",
       "    <tr>\n",
       "      <th>576</th>\n",
       "      <td>https://www.moneycontrol.com/news/business/sto...</td>\n",
       "      <td>Geojit's report on Daily Agri Picks The govern...</td>\n",
       "    </tr>\n",
       "    <tr>\n",
       "      <th>577</th>\n",
       "      <td>https://www.moneycontrol.com/news/business/sto...</td>\n",
       "      <td>Shares ofCoforge Limitedadvanced over 4 percen...</td>\n",
       "    </tr>\n",
       "  </tbody>\n",
       "</table>\n",
       "<p>578 rows × 2 columns</p>\n",
       "</div>"
      ],
      "text/plain": [
       "                                                   URL  \\\n",
       "0    https://www.moneycontrol.com/news/business/mar...   \n",
       "1    https://www.moneycontrol.com/news/business/mar...   \n",
       "2    https://www.moneycontrol.com/news/business/mar...   \n",
       "3    https://www.moneycontrol.com/news/business/sto...   \n",
       "4    https://www.moneycontrol.com/news/business/mar...   \n",
       "..                                                 ...   \n",
       "573  https://www.moneycontrol.com/news/business/sto...   \n",
       "574  https://www.moneycontrol.com/news/business/mar...   \n",
       "575  https://www.moneycontrol.com/news/business/sto...   \n",
       "576  https://www.moneycontrol.com/news/business/sto...   \n",
       "577  https://www.moneycontrol.com/news/business/sto...   \n",
       "\n",
       "                                                  Data  \n",
       "0    The Indian equity benchmark opened firm on Mar...  \n",
       "1    Equity benchmarks the Sensex and Nifty soared ...  \n",
       "2    After hitting fresh record highs, frontline in...  \n",
       "3    State-owned Life Insurance Corporation of Indi...  \n",
       "4    Benchmark indices the Sensex and the Nifty sna...  \n",
       "..                                                 ...  \n",
       "573  Shares ofLemon Tree Hotelsgained in the early ...  \n",
       "574  Shares of AstraZeneca Pharma India jumped over...  \n",
       "575  Geojit's report on Daily Agri Picks The area u...  \n",
       "576  Geojit's report on Daily Agri Picks The govern...  \n",
       "577  Shares ofCoforge Limitedadvanced over 4 percen...  \n",
       "\n",
       "[578 rows x 2 columns]"
      ]
     },
     "execution_count": 19,
     "metadata": {},
     "output_type": "execute_result"
    }
   ],
   "source": [
    "df"
   ]
  },
  {
   "cell_type": "code",
   "execution_count": 18,
   "id": "8a216de5",
   "metadata": {},
   "outputs": [
    {
     "data": {
      "text/plain": [
       "'Shares ofCoforge Limitedadvanced over 4 percent in the morning trade on April 4 after JP Morgan initiated coverage of the stock with an \"overweight\" call, citing consistent execution in sales and operating leverage. The global brokerage has assigned a price target of Rs 7,000, an upside of 24 percent from the last close of Rs 5,662. The stock has surged 47 percent in the last year. Follow our live blog for all the market action Analysts expect the Indian information technology firm to grow revenue at 13 percent over FY24-26, resulting in a 21 percent increase in earnings CAGR over the same period. \"This places the company fastest among all large cap peers, and lags only Persistent Systems in our coverage,\" JP Morgan said in a recent note. Also read:Coforge: Why the stock consolidation presents a long-term opportunity The company\\'s potential placement or an extension of ESOP\\xa0 suggests that if it goes ahead with the plan, it might lower profit margins and earnings per share (EPS) for the financial year 2025 (FY25) by 100 basis points. One basis point is one-hundredth of a percentage point. The share has dropped by over 12 percent in the past month. This could be a good time to buy the stock as the price is lower, JP Morgan said. In January, Morgan Stanley also started coverage on the company with an \"overweight\" call. \"The company has strong potential to be driven by strong revenue growth and strong free cash flow conversion,\" its analysts said. At 9.26 am, the stock was trading at Rs 5,795 on the National Stock Exchange, up 2.34 percent from the previous close.\\n'"
      ]
     },
     "execution_count": 18,
     "metadata": {},
     "output_type": "execute_result"
    }
   ],
   "source": [
    "df['Data'][577]"
   ]
  },
  {
   "cell_type": "code",
   "execution_count": 20,
   "id": "78cf3e46",
   "metadata": {},
   "outputs": [],
   "source": [
    "df.to_csv('stock_data',index = False)"
   ]
  }
 ],
 "metadata": {
  "kernelspec": {
   "display_name": "Python 3 (ipykernel)",
   "language": "python",
   "name": "python3"
  },
  "language_info": {
   "codemirror_mode": {
    "name": "ipython",
    "version": 3
   },
   "file_extension": ".py",
   "mimetype": "text/x-python",
   "name": "python",
   "nbconvert_exporter": "python",
   "pygments_lexer": "ipython3",
   "version": "3.11.5"
  }
 },
 "nbformat": 4,
 "nbformat_minor": 5
}
