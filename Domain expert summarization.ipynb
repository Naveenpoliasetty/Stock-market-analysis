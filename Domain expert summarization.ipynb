{
 "cells": [
  {
   "cell_type": "code",
   "execution_count": 2,
   "id": "f7ecd471",
   "metadata": {},
   "outputs": [],
   "source": [
    "from cleantext import clean"
   ]
  },
  {
   "cell_type": "code",
   "execution_count": 3,
   "id": "b807462c",
   "metadata": {},
   "outputs": [],
   "source": [
    "import pandas as pd\n",
    "df = pd.read_csv('stock_data')"
   ]
  },
  {
   "cell_type": "code",
   "execution_count": 4,
   "id": "235fa02b",
   "metadata": {},
   "outputs": [
    {
     "data": {
      "text/html": [
       "<div>\n",
       "<style scoped>\n",
       "    .dataframe tbody tr th:only-of-type {\n",
       "        vertical-align: middle;\n",
       "    }\n",
       "\n",
       "    .dataframe tbody tr th {\n",
       "        vertical-align: top;\n",
       "    }\n",
       "\n",
       "    .dataframe thead th {\n",
       "        text-align: right;\n",
       "    }\n",
       "</style>\n",
       "<table border=\"1\" class=\"dataframe\">\n",
       "  <thead>\n",
       "    <tr style=\"text-align: right;\">\n",
       "      <th></th>\n",
       "      <th>URL</th>\n",
       "      <th>Data</th>\n",
       "    </tr>\n",
       "  </thead>\n",
       "  <tbody>\n",
       "    <tr>\n",
       "      <th>0</th>\n",
       "      <td>https://www.moneycontrol.com/news/business/mar...</td>\n",
       "      <td>The Indian equity benchmark opened firm on Mar...</td>\n",
       "    </tr>\n",
       "    <tr>\n",
       "      <th>1</th>\n",
       "      <td>https://www.moneycontrol.com/news/business/mar...</td>\n",
       "      <td>Equity benchmarks the Sensex and Nifty soared ...</td>\n",
       "    </tr>\n",
       "    <tr>\n",
       "      <th>2</th>\n",
       "      <td>https://www.moneycontrol.com/news/business/mar...</td>\n",
       "      <td>After hitting fresh record highs, frontline in...</td>\n",
       "    </tr>\n",
       "    <tr>\n",
       "      <th>3</th>\n",
       "      <td>https://www.moneycontrol.com/news/business/sto...</td>\n",
       "      <td>State-owned Life Insurance Corporation of Indi...</td>\n",
       "    </tr>\n",
       "    <tr>\n",
       "      <th>4</th>\n",
       "      <td>https://www.moneycontrol.com/news/business/mar...</td>\n",
       "      <td>Benchmark indices the Sensex and the Nifty sna...</td>\n",
       "    </tr>\n",
       "    <tr>\n",
       "      <th>...</th>\n",
       "      <td>...</td>\n",
       "      <td>...</td>\n",
       "    </tr>\n",
       "    <tr>\n",
       "      <th>573</th>\n",
       "      <td>https://www.moneycontrol.com/news/business/sto...</td>\n",
       "      <td>Shares ofLemon Tree Hotelsgained in the early ...</td>\n",
       "    </tr>\n",
       "    <tr>\n",
       "      <th>574</th>\n",
       "      <td>https://www.moneycontrol.com/news/business/mar...</td>\n",
       "      <td>Shares of AstraZeneca Pharma India jumped over...</td>\n",
       "    </tr>\n",
       "    <tr>\n",
       "      <th>575</th>\n",
       "      <td>https://www.moneycontrol.com/news/business/sto...</td>\n",
       "      <td>Geojit's report on Daily Agri Picks The area u...</td>\n",
       "    </tr>\n",
       "    <tr>\n",
       "      <th>576</th>\n",
       "      <td>https://www.moneycontrol.com/news/business/sto...</td>\n",
       "      <td>Geojit's report on Daily Agri Picks The govern...</td>\n",
       "    </tr>\n",
       "    <tr>\n",
       "      <th>577</th>\n",
       "      <td>https://www.moneycontrol.com/news/business/sto...</td>\n",
       "      <td>Shares ofCoforge Limitedadvanced over 4 percen...</td>\n",
       "    </tr>\n",
       "  </tbody>\n",
       "</table>\n",
       "<p>578 rows × 2 columns</p>\n",
       "</div>"
      ],
      "text/plain": [
       "                                                   URL  \\\n",
       "0    https://www.moneycontrol.com/news/business/mar...   \n",
       "1    https://www.moneycontrol.com/news/business/mar...   \n",
       "2    https://www.moneycontrol.com/news/business/mar...   \n",
       "3    https://www.moneycontrol.com/news/business/sto...   \n",
       "4    https://www.moneycontrol.com/news/business/mar...   \n",
       "..                                                 ...   \n",
       "573  https://www.moneycontrol.com/news/business/sto...   \n",
       "574  https://www.moneycontrol.com/news/business/mar...   \n",
       "575  https://www.moneycontrol.com/news/business/sto...   \n",
       "576  https://www.moneycontrol.com/news/business/sto...   \n",
       "577  https://www.moneycontrol.com/news/business/sto...   \n",
       "\n",
       "                                                  Data  \n",
       "0    The Indian equity benchmark opened firm on Mar...  \n",
       "1    Equity benchmarks the Sensex and Nifty soared ...  \n",
       "2    After hitting fresh record highs, frontline in...  \n",
       "3    State-owned Life Insurance Corporation of Indi...  \n",
       "4    Benchmark indices the Sensex and the Nifty sna...  \n",
       "..                                                 ...  \n",
       "573  Shares ofLemon Tree Hotelsgained in the early ...  \n",
       "574  Shares of AstraZeneca Pharma India jumped over...  \n",
       "575  Geojit's report on Daily Agri Picks The area u...  \n",
       "576  Geojit's report on Daily Agri Picks The govern...  \n",
       "577  Shares ofCoforge Limitedadvanced over 4 percen...  \n",
       "\n",
       "[578 rows x 2 columns]"
      ]
     },
     "execution_count": 4,
     "metadata": {},
     "output_type": "execute_result"
    }
   ],
   "source": [
    "df"
   ]
  },
  {
   "cell_type": "code",
   "execution_count": 7,
   "id": "293f7288",
   "metadata": {},
   "outputs": [],
   "source": [
    "def clean_text(text):\n",
    "    parts = text.split(\":\", 1)\n",
    "    if len(parts) > 1:\n",
    "        cleaned_text = parts[1].strip()  # Remove leading/trailing whitespace\n",
    "        cleaned_text = cleaned_text.replace(\"\\n\", \"\")  # Remove newline characters\n",
    "        cleaned_text = cleaned_text.replace(\"*\",\"\")\n",
    "        \n",
    "    return remove_unwants(cleaned_text)\n",
    "    else:\n",
    "        return \"\"  # Return empty string if no colon foun\n"
   ]
  },
  {
   "cell_type": "code",
   "execution_count": 8,
   "id": "6e9bc26b",
   "metadata": {},
   "outputs": [],
   "source": [
    "df2 = df"
   ]
  },
  {
   "cell_type": "code",
   "execution_count": 9,
   "id": "6e8ec2a4",
   "metadata": {},
   "outputs": [
    {
     "data": {
      "text/plain": [
       "578"
      ]
     },
     "execution_count": 9,
     "metadata": {},
     "output_type": "execute_result"
    }
   ],
   "source": [
    "len(df2['Data'])"
   ]
  },
  {
   "cell_type": "code",
   "execution_count": 10,
   "id": "86e7002e",
   "metadata": {},
   "outputs": [
    {
     "data": {
      "text/html": [
       "<div>\n",
       "<style scoped>\n",
       "    .dataframe tbody tr th:only-of-type {\n",
       "        vertical-align: middle;\n",
       "    }\n",
       "\n",
       "    .dataframe tbody tr th {\n",
       "        vertical-align: top;\n",
       "    }\n",
       "\n",
       "    .dataframe thead th {\n",
       "        text-align: right;\n",
       "    }\n",
       "</style>\n",
       "<table border=\"1\" class=\"dataframe\">\n",
       "  <thead>\n",
       "    <tr style=\"text-align: right;\">\n",
       "      <th></th>\n",
       "      <th>URL</th>\n",
       "      <th>Data</th>\n",
       "    </tr>\n",
       "  </thead>\n",
       "  <tbody>\n",
       "    <tr>\n",
       "      <th>0</th>\n",
       "      <td>https://www.moneycontrol.com/news/business/mar...</td>\n",
       "      <td>The Indian equity benchmark opened firm on Mar...</td>\n",
       "    </tr>\n",
       "    <tr>\n",
       "      <th>1</th>\n",
       "      <td>https://www.moneycontrol.com/news/business/mar...</td>\n",
       "      <td>Equity benchmarks the Sensex and Nifty soared ...</td>\n",
       "    </tr>\n",
       "    <tr>\n",
       "      <th>2</th>\n",
       "      <td>https://www.moneycontrol.com/news/business/mar...</td>\n",
       "      <td>After hitting fresh record highs, frontline in...</td>\n",
       "    </tr>\n",
       "    <tr>\n",
       "      <th>3</th>\n",
       "      <td>https://www.moneycontrol.com/news/business/sto...</td>\n",
       "      <td>State-owned Life Insurance Corporation of Indi...</td>\n",
       "    </tr>\n",
       "    <tr>\n",
       "      <th>4</th>\n",
       "      <td>https://www.moneycontrol.com/news/business/mar...</td>\n",
       "      <td>Benchmark indices the Sensex and the Nifty sna...</td>\n",
       "    </tr>\n",
       "    <tr>\n",
       "      <th>...</th>\n",
       "      <td>...</td>\n",
       "      <td>...</td>\n",
       "    </tr>\n",
       "    <tr>\n",
       "      <th>573</th>\n",
       "      <td>https://www.moneycontrol.com/news/business/sto...</td>\n",
       "      <td>Shares ofLemon Tree Hotelsgained in the early ...</td>\n",
       "    </tr>\n",
       "    <tr>\n",
       "      <th>574</th>\n",
       "      <td>https://www.moneycontrol.com/news/business/mar...</td>\n",
       "      <td>Shares of AstraZeneca Pharma India jumped over...</td>\n",
       "    </tr>\n",
       "    <tr>\n",
       "      <th>575</th>\n",
       "      <td>https://www.moneycontrol.com/news/business/sto...</td>\n",
       "      <td>Geojit's report on Daily Agri Picks The area u...</td>\n",
       "    </tr>\n",
       "    <tr>\n",
       "      <th>576</th>\n",
       "      <td>https://www.moneycontrol.com/news/business/sto...</td>\n",
       "      <td>Geojit's report on Daily Agri Picks The govern...</td>\n",
       "    </tr>\n",
       "    <tr>\n",
       "      <th>577</th>\n",
       "      <td>https://www.moneycontrol.com/news/business/sto...</td>\n",
       "      <td>Shares ofCoforge Limitedadvanced over 4 percen...</td>\n",
       "    </tr>\n",
       "  </tbody>\n",
       "</table>\n",
       "<p>578 rows × 2 columns</p>\n",
       "</div>"
      ],
      "text/plain": [
       "                                                   URL  \\\n",
       "0    https://www.moneycontrol.com/news/business/mar...   \n",
       "1    https://www.moneycontrol.com/news/business/mar...   \n",
       "2    https://www.moneycontrol.com/news/business/mar...   \n",
       "3    https://www.moneycontrol.com/news/business/sto...   \n",
       "4    https://www.moneycontrol.com/news/business/mar...   \n",
       "..                                                 ...   \n",
       "573  https://www.moneycontrol.com/news/business/sto...   \n",
       "574  https://www.moneycontrol.com/news/business/mar...   \n",
       "575  https://www.moneycontrol.com/news/business/sto...   \n",
       "576  https://www.moneycontrol.com/news/business/sto...   \n",
       "577  https://www.moneycontrol.com/news/business/sto...   \n",
       "\n",
       "                                                  Data  \n",
       "0    The Indian equity benchmark opened firm on Mar...  \n",
       "1    Equity benchmarks the Sensex and Nifty soared ...  \n",
       "2    After hitting fresh record highs, frontline in...  \n",
       "3    State-owned Life Insurance Corporation of Indi...  \n",
       "4    Benchmark indices the Sensex and the Nifty sna...  \n",
       "..                                                 ...  \n",
       "573  Shares ofLemon Tree Hotelsgained in the early ...  \n",
       "574  Shares of AstraZeneca Pharma India jumped over...  \n",
       "575  Geojit's report on Daily Agri Picks The area u...  \n",
       "576  Geojit's report on Daily Agri Picks The govern...  \n",
       "577  Shares ofCoforge Limitedadvanced over 4 percen...  \n",
       "\n",
       "[578 rows x 2 columns]"
      ]
     },
     "execution_count": 10,
     "metadata": {},
     "output_type": "execute_result"
    }
   ],
   "source": [
    "df2"
   ]
  },
  {
   "cell_type": "code",
   "execution_count": 11,
   "id": "a5b7263d",
   "metadata": {},
   "outputs": [],
   "source": [
    "df2 = df2.drop(df2.index[130:140])"
   ]
  },
  {
   "cell_type": "code",
   "execution_count": 12,
   "id": "e2b5fc8d",
   "metadata": {},
   "outputs": [],
   "source": [
    "df2 = df2.drop(df2.index[150:157])"
   ]
  },
  {
   "cell_type": "code",
   "execution_count": 13,
   "id": "a813d4b0",
   "metadata": {},
   "outputs": [],
   "source": [
    "df2 = df2.drop(df2.index[190:200])"
   ]
  },
  {
   "cell_type": "code",
   "execution_count": 15,
   "id": "e97021ba",
   "metadata": {},
   "outputs": [],
   "source": [
    "df2 = df2.drop(df2.index[206:209])"
   ]
  },
  {
   "cell_type": "code",
   "execution_count": 16,
   "id": "d692a38c",
   "metadata": {},
   "outputs": [],
   "source": [
    "df2 = df2.drop(df2.index[219:221])"
   ]
  },
  {
   "cell_type": "code",
   "execution_count": 17,
   "id": "acbb4600",
   "metadata": {},
   "outputs": [],
   "source": [
    "df2 = df2.drop(df2.index[275])"
   ]
  },
  {
   "cell_type": "code",
   "execution_count": 18,
   "id": "b0284877",
   "metadata": {},
   "outputs": [],
   "source": [
    "df2 = df2.drop(df2.index[279])"
   ]
  },
  {
   "cell_type": "code",
   "execution_count": 19,
   "id": "d765d741",
   "metadata": {},
   "outputs": [],
   "source": [
    "df2 = df2.drop(df2.index[404])"
   ]
  },
  {
   "cell_type": "code",
   "execution_count": 35,
   "id": "c9f75809",
   "metadata": {},
   "outputs": [],
   "source": [
    "df2 = df2.drop(df2.index[185])"
   ]
  },
  {
   "cell_type": "code",
   "execution_count": 38,
   "id": "8c882350",
   "metadata": {},
   "outputs": [],
   "source": [
    "df2 = df2.drop(df2.index[224:225])"
   ]
  },
  {
   "cell_type": "code",
   "execution_count": 55,
   "id": "62dccd7f",
   "metadata": {},
   "outputs": [],
   "source": [
    "df2 = df2.drop(df2.index[268:270])"
   ]
  },
  {
   "cell_type": "code",
   "execution_count": 74,
   "id": "580a3671",
   "metadata": {},
   "outputs": [],
   "source": [
    "df2 = df2.drop(df2.index[393])"
   ]
  },
  {
   "cell_type": "code",
   "execution_count": 75,
   "id": "219e917c",
   "metadata": {},
   "outputs": [],
   "source": [
    "from openai import OpenAI\n",
    "\n",
    "client = OpenAI(base_url=\"http://localhost:1234/v1\", api_key=\"lm-studio\")"
   ]
  },
  {
   "cell_type": "code",
   "execution_count": 78,
   "id": "210b602c",
   "metadata": {},
   "outputs": [],
   "source": [
    "count = 392"
   ]
  },
  {
   "cell_type": "code",
   "execution_count": 80,
   "id": "acf0e07e",
   "metadata": {},
   "outputs": [
    {
     "data": {
      "text/plain": [
       "47"
      ]
     },
     "execution_count": 80,
     "metadata": {},
     "output_type": "execute_result"
    }
   ],
   "source": [
    "len(df2[484:])"
   ]
  },
  {
   "cell_type": "code",
   "execution_count": 81,
   "id": "0276f5f4",
   "metadata": {},
   "outputs": [
    {
     "name": "stdout",
     "output_type": "stream",
     "text": [
      "485\n",
      "486\n",
      "487\n",
      "488\n",
      "489\n",
      "490\n",
      "491\n",
      "492\n",
      "493\n",
      "494\n",
      "495\n",
      "496\n",
      "497\n",
      "498\n",
      "499\n",
      "500\n",
      "501\n",
      "502\n",
      "503\n",
      "504\n",
      "505\n",
      "506\n",
      "507\n",
      "508\n",
      "509\n",
      "510\n",
      "511\n",
      "512\n",
      "513\n",
      "514\n",
      "515\n",
      "516\n",
      "517\n",
      "518\n",
      "519\n",
      "520\n",
      "521\n",
      "522\n",
      "523\n",
      "524\n",
      "525\n",
      "526\n",
      "527\n",
      "528\n",
      "529\n",
      "530\n"
     ]
    }
   ],
   "source": [
    "for x in df2['Data'][485:]:\n",
    "    count += 1\n",
    "    print(count)\n",
    "    completion = client.chat.completions.create(\n",
    "      model=\"lmstudio-ai/gemma-2b-it-GGUF/gemma-2b-it-q4_k_m.gguf\",\n",
    "      messages=[\n",
    "        {\"role\": \"system\", \"content\": \"You are a helpful stock market specialist bot. Summarize the data given with your expertise in stock market. Give me cotinuous texts do not use bold letters\"},\n",
    "        {\"role\": \"user\", \"content\": x }\n",
    "      ],\n",
    "      temperature=0.7,\n",
    "    )\n",
    "    stock_impact['Data'].append(x)\n",
    "    ge.append(clean_text(completion.choices[0].message.content))"
   ]
  },
  {
   "cell_type": "code",
   "execution_count": 83,
   "id": "8340f53c",
   "metadata": {},
   "outputs": [
    {
     "data": {
      "text/plain": [
       "523"
      ]
     },
     "execution_count": 83,
     "metadata": {},
     "output_type": "execute_result"
    }
   ],
   "source": [
    "len(stock_impact['Data'])"
   ]
  },
  {
   "cell_type": "code",
   "execution_count": 84,
   "id": "374dbe3e",
   "metadata": {},
   "outputs": [],
   "source": [
    "stock_impact['Impact'] = ge"
   ]
  },
  {
   "cell_type": "code",
   "execution_count": 88,
   "id": "a2c1f942",
   "metadata": {},
   "outputs": [],
   "source": [
    "data = pd.DataFrame(stock_impact)"
   ]
  },
  {
   "cell_type": "code",
   "execution_count": 89,
   "id": "be302af3",
   "metadata": {},
   "outputs": [
    {
     "data": {
      "text/html": [
       "<div>\n",
       "<style scoped>\n",
       "    .dataframe tbody tr th:only-of-type {\n",
       "        vertical-align: middle;\n",
       "    }\n",
       "\n",
       "    .dataframe tbody tr th {\n",
       "        vertical-align: top;\n",
       "    }\n",
       "\n",
       "    .dataframe thead th {\n",
       "        text-align: right;\n",
       "    }\n",
       "</style>\n",
       "<table border=\"1\" class=\"dataframe\">\n",
       "  <thead>\n",
       "    <tr style=\"text-align: right;\">\n",
       "      <th></th>\n",
       "      <th>Data</th>\n",
       "      <th>Impact</th>\n",
       "    </tr>\n",
       "  </thead>\n",
       "  <tbody>\n",
       "    <tr>\n",
       "      <th>0</th>\n",
       "      <td>The Indian equity benchmark opened firm on Mar...</td>\n",
       "      <td>The Indian equity benchmark opened firm on Ma...</td>\n",
       "    </tr>\n",
       "    <tr>\n",
       "      <th>1</th>\n",
       "      <td>Equity benchmarks the Sensex and Nifty soared ...</td>\n",
       "      <td>The Sensex and Nifty closed higher today, dri...</td>\n",
       "    </tr>\n",
       "    <tr>\n",
       "      <th>2</th>\n",
       "      <td>After hitting fresh record highs, frontline in...</td>\n",
       "      <td>Sensex: Down 0.12% at 73,791.52 1,963 shares a...</td>\n",
       "    </tr>\n",
       "    <tr>\n",
       "      <th>3</th>\n",
       "      <td>State-owned Life Insurance Corporation of Indi...</td>\n",
       "      <td>State-owned Life Insurance Corporation of Ind...</td>\n",
       "    </tr>\n",
       "    <tr>\n",
       "      <th>4</th>\n",
       "      <td>Benchmark indices the Sensex and the Nifty sna...</td>\n",
       "      <td>Sensex closed lower at 72,470 with a loss of ...</td>\n",
       "    </tr>\n",
       "    <tr>\n",
       "      <th>...</th>\n",
       "      <td>...</td>\n",
       "      <td>...</td>\n",
       "    </tr>\n",
       "    <tr>\n",
       "      <th>518</th>\n",
       "      <td>Shares ofLemon Tree Hotelsgained in the early ...</td>\n",
       "      <td>Lemon Tree Hotels gained Rs 1.85 in the early...</td>\n",
       "    </tr>\n",
       "    <tr>\n",
       "      <th>519</th>\n",
       "      <td>Shares of AstraZeneca Pharma India jumped over...</td>\n",
       "      <td>AstraZeneca received permission to import and...</td>\n",
       "    </tr>\n",
       "    <tr>\n",
       "      <th>520</th>\n",
       "      <td>Geojit's report on Daily Agri Picks The area u...</td>\n",
       "      <td>Geojit's report shows that the area under rab...</td>\n",
       "    </tr>\n",
       "    <tr>\n",
       "      <th>521</th>\n",
       "      <td>Geojit's report on Daily Agri Picks The govern...</td>\n",
       "      <td>The government has procured 70.7 million tn o...</td>\n",
       "    </tr>\n",
       "    <tr>\n",
       "      <th>522</th>\n",
       "      <td>Shares ofCoforge Limitedadvanced over 4 percen...</td>\n",
       "      <td>Coforge Limited's shares have increased by ov...</td>\n",
       "    </tr>\n",
       "  </tbody>\n",
       "</table>\n",
       "<p>523 rows × 2 columns</p>\n",
       "</div>"
      ],
      "text/plain": [
       "                                                  Data  \\\n",
       "0    The Indian equity benchmark opened firm on Mar...   \n",
       "1    Equity benchmarks the Sensex and Nifty soared ...   \n",
       "2    After hitting fresh record highs, frontline in...   \n",
       "3    State-owned Life Insurance Corporation of Indi...   \n",
       "4    Benchmark indices the Sensex and the Nifty sna...   \n",
       "..                                                 ...   \n",
       "518  Shares ofLemon Tree Hotelsgained in the early ...   \n",
       "519  Shares of AstraZeneca Pharma India jumped over...   \n",
       "520  Geojit's report on Daily Agri Picks The area u...   \n",
       "521  Geojit's report on Daily Agri Picks The govern...   \n",
       "522  Shares ofCoforge Limitedadvanced over 4 percen...   \n",
       "\n",
       "                                                Impact  \n",
       "0     The Indian equity benchmark opened firm on Ma...  \n",
       "1     The Sensex and Nifty closed higher today, dri...  \n",
       "2    Sensex: Down 0.12% at 73,791.52 1,963 shares a...  \n",
       "3     State-owned Life Insurance Corporation of Ind...  \n",
       "4     Sensex closed lower at 72,470 with a loss of ...  \n",
       "..                                                 ...  \n",
       "518   Lemon Tree Hotels gained Rs 1.85 in the early...  \n",
       "519   AstraZeneca received permission to import and...  \n",
       "520   Geojit's report shows that the area under rab...  \n",
       "521   The government has procured 70.7 million tn o...  \n",
       "522   Coforge Limited's shares have increased by ov...  \n",
       "\n",
       "[523 rows x 2 columns]"
      ]
     },
     "execution_count": 89,
     "metadata": {},
     "output_type": "execute_result"
    }
   ],
   "source": [
    "data"
   ]
  },
  {
   "cell_type": "code",
   "execution_count": 90,
   "id": "86d14ba0",
   "metadata": {},
   "outputs": [],
   "source": [
    "data.to_csv('article_data',index=False)"
   ]
  }
 ],
 "metadata": {
  "kernelspec": {
   "display_name": "Python 3 (ipykernel)",
   "language": "python",
   "name": "python3"
  },
  "language_info": {
   "codemirror_mode": {
    "name": "ipython",
    "version": 3
   },
   "file_extension": ".py",
   "mimetype": "text/x-python",
   "name": "python",
   "nbconvert_exporter": "python",
   "pygments_lexer": "ipython3",
   "version": "3.11.5"
  }
 },
 "nbformat": 4,
 "nbformat_minor": 5
}
